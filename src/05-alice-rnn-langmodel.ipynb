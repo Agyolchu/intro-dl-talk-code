{
 "cells": [
  {
   "cell_type": "markdown",
   "metadata": {},
   "source": [
    "# Learning to speak like Alice\n",
    "\n",
    "A generative character based language model is created by training an RNN on the text of [Alice in Wonderland](http://www.gutenberg.org/ebooks/11).\n",
    "\n",
    "## Setup Imports"
   ]
  },
  {
   "cell_type": "code",
   "execution_count": 1,
   "metadata": {
    "collapsed": false
   },
   "outputs": [
    {
     "name": "stderr",
     "output_type": "stream",
     "text": [
      "Using Theano backend.\n"
     ]
    }
   ],
   "source": [
    "from __future__ import division, print_function\n",
    "from keras.layers.recurrent import SimpleRNN\n",
    "from keras.models import Sequential\n",
    "from keras.layers import Dense, Activation\n",
    "from keras.utils.visualize_util import plot\n",
    "import numpy as np\n",
    "%matplotlib inline"
   ]
  },
  {
   "cell_type": "markdown",
   "metadata": {},
   "source": [
    "## Read input"
   ]
  },
  {
   "cell_type": "code",
   "execution_count": 2,
   "metadata": {
    "collapsed": true
   },
   "outputs": [],
   "source": [
    "fin = open(\"../data/alice_in_wonderland.txt\", \"rb\")\n",
    "lines = []\n",
    "for line in fin:\n",
    "    line = line.strip().lower().decode(\"ascii\", \"ignore\")\n",
    "    if len(line) == 0:\n",
    "        continue\n",
    "    lines.append(line)\n",
    "fin.close()\n",
    "text = \"\".join(lines)"
   ]
  },
  {
   "cell_type": "markdown",
   "metadata": {},
   "source": [
    "## Build vocabulary lookup tables"
   ]
  },
  {
   "cell_type": "code",
   "execution_count": 3,
   "metadata": {
    "collapsed": true
   },
   "outputs": [],
   "source": [
    "chars = set([c for c in text])\n",
    "vocab_size = len(chars)\n",
    "char2index = dict((c, i) for i, c in enumerate(chars))\n",
    "index2char = dict((i, c) for i, c in enumerate(chars))"
   ]
  },
  {
   "cell_type": "markdown",
   "metadata": {},
   "source": [
    "## Create training data\n",
    "\n",
    "We want to create fixed size strings of characters as the input sequence and the following character as the label. So for example, if the input is \"the sky was falling\", then the following sequence of training chars and label chars would be created:\n",
    "\n",
    "    the sky wa => s\n",
    "    he sky was => \n",
    "    e sky was  => f\n",
    "     sky was f => a\n",
    "    sky was fa => l\n",
    "\n",
    "and so on."
   ]
  },
  {
   "cell_type": "code",
   "execution_count": 4,
   "metadata": {
    "collapsed": true
   },
   "outputs": [],
   "source": [
    "seqlen = 10\n",
    "step = 1\n",
    "input_chars = []\n",
    "label_chars = []\n",
    "for i in range(0, len(text) - seqlen, step):\n",
    "    input_chars.append(text[i:i+seqlen])\n",
    "    label_chars.append(text[i+seqlen])"
   ]
  },
  {
   "cell_type": "markdown",
   "metadata": {},
   "source": [
    "We now vectorize the input and label chars. Each row of input is represented by seqlen characters, each character is represented as a 1-hot encoding of size vocab_size. Thus the shape of X is (len(input_chars), seqlen, vocab_size). \n",
    "\n",
    "Each row of the label is a single character, represented by a 1-hot encoding of size vocab_size. The corresponding prediction row (output of the network) would be a dense vector of size vocab_size. Hence the shape of y is (len(input_chars), vocab_size)."
   ]
  },
  {
   "cell_type": "code",
   "execution_count": 5,
   "metadata": {
    "collapsed": false
   },
   "outputs": [],
   "source": [
    "X = np.zeros((len(input_chars), seqlen, vocab_size), dtype=np.bool)\n",
    "y = np.zeros((len(input_chars), vocab_size), dtype=np.bool)\n",
    "for i, input_char in enumerate(input_chars):\n",
    "    for j, ch in enumerate(input_char):\n",
    "        X[i, j, char2index[ch]] = 1\n",
    "    y[i, char2index[label_chars[i]]] = 1"
   ]
  },
  {
   "cell_type": "markdown",
   "metadata": {},
   "source": [
    "## Build the model"
   ]
  },
  {
   "cell_type": "code",
   "execution_count": 6,
   "metadata": {
    "collapsed": false
   },
   "outputs": [],
   "source": [
    "model = Sequential()\n",
    "model.add(SimpleRNN(512, return_sequences=False, input_shape=(seqlen, vocab_size)))\n",
    "model.add(Dense(vocab_size))\n",
    "model.add(Activation(\"softmax\"))\n",
    "\n",
    "model.compile(loss=\"categorical_crossentropy\", optimizer=\"rmsprop\")"
   ]
  },
  {
   "cell_type": "markdown",
   "metadata": {},
   "source": [
    "## Train Model and Evaluate\n",
    "\n",
    "We train the model in batches and evaluate the output generated at each step. There is no training set here, so evaluation is manual.\n",
    "\n",
    "In each iteration, we fit the model for a single epoch, then randomly choose a row from the input_chars, then use it to generate text from the model for the next 100 chars."
   ]
  },
  {
   "cell_type": "code",
   "execution_count": 7,
   "metadata": {
    "collapsed": false
   },
   "outputs": [
    {
     "name": "stdout",
     "output_type": "stream",
     "text": [
      "==================================================\n",
      "Iteration #: 0\n",
      "Seed: ow are you\n",
      "ow are you the wase the wase the wase the wase the wase the wase the wase the wase the wase the wase the wase \n",
      "==================================================\n",
      "Iteration #: 1\n",
      "Seed: l looked s\n",
      "l looked soute sad the the the the the the the the the the the the the the the the the the the the the the the\n",
      "==================================================\n",
      "Iteration #: 2\n",
      "Seed: or speaker\n",
      "or speaker and the dor the more the the dor the more the the dor the more the the dor the more the the dor the\n",
      "==================================================\n",
      "Iteration #: 3\n",
      "Seed: out this, \n",
      "out this, and the sall and the the she sall the she sall the she sall the she sall the she sall the she sall t\n",
      "==================================================\n",
      "Iteration #: 4\n",
      "Seed: remember,'\n",
      "remember,' said the crows and all the treperse for and all the treperse for and all the treperse for and all t\n",
      "==================================================\n",
      "Iteration #: 5\n",
      "Seed: rightened \n",
      "rightened in the said the cate the was in a the cate the was in a the cate the was in a the cate the was in a \n",
      "==================================================\n",
      "Iteration #: 6\n",
      "Seed: ly.'that's\n",
      "ly.'that's the was a dowe the reat the was a dowe the reat the was a dowe the reat the was a dowe the reat the\n",
      "==================================================\n",
      "Iteration #: 7\n",
      "Seed: joythe pep\n",
      "joythe pepperst the gryphon. 'i don't see the gryphon. 'i don't see the gryphon. 'i don't see the gryphon. 'i \n",
      "==================================================\n",
      "Iteration #: 8\n",
      "Seed: re them, i\n",
      "re them, it had the mock turtle the was a down the was a down the was a down the was a down the was a down the\n",
      "==================================================\n",
      "Iteration #: 9\n",
      "Seed: it, she fo\n",
      "it, she fort as the cater the gryphon it was the began the bext the began the bext the began the bext the bega\n",
      "==================================================\n",
      "Iteration #: 10\n",
      "Seed: ' the gryp\n",
      "' the gryphon a the was get the was get the was get the was get the was get the was get the was get the was ge\n",
      "==================================================\n",
      "Iteration #: 11\n",
      "Seed: 'why is a \n",
      "'why is a a don't be the did the said the caterpillar same and the said the caterpillar same and the said the \n",
      "==================================================\n",
      "Iteration #: 12\n",
      "Seed: leepy and \n",
      "leepy and the was a some thing it alice was a looked at the was a some thing it alice was a looked at the was \n",
      "==================================================\n",
      "Iteration #: 13\n",
      "Seed: set, and t\n",
      "set, and the dormouse, and the dormouse, and the dormouse, and the dormouse, and the dormouse, and the dormous\n",
      "==================================================\n",
      "Iteration #: 14\n",
      "Seed: se they le\n",
      "se they lear the courden the gryphon, and was speaked to her firdor and words it down the said to see in the g\n",
      "==================================================\n",
      "Iteration #: 15\n",
      "Seed:  opened it\n",
      " opened it was going out of the said to alice soon she had no such a turred to alice soon she had no such a tu\n",
      "==================================================\n",
      "Iteration #: 16\n",
      "Seed: head first\n",
      "head first one i'm a rarden she was got to see it was the cats as it was got to see it was the cats as it was \n",
      "==================================================\n",
      "Iteration #: 17\n",
      "Seed: id the you\n",
      "id the you sous of the same the said the mock turtle so alice said the mock turtle so alice said the mock turt\n",
      "==================================================\n",
      "Iteration #: 18\n",
      "Seed:  and it se\n",
      " and it seally at the caterpillar say she was sat the began surpring of the pupper hardly at all the beautiful\n",
      "==================================================\n",
      "Iteration #: 19\n",
      "Seed: memory, an\n",
      "memory, and the little good the long and the hatter with the lobst resting to see the moment the mock turtle, \n",
      "==================================================\n",
      "Iteration #: 20\n",
      "Seed: them about\n",
      "them about as an the dormouse said to herself, and she don't sous you pered to her sear the dormouse said to h\n",
      "==================================================\n",
      "Iteration #: 21\n",
      "Seed: ed dinah!'\n",
      "ed dinah!' said the king said to herself, 'i wonder, she said to herself, 'i wonder, she said to herself, 'i w\n",
      "==================================================\n",
      "Iteration #: 22\n",
      "Seed: he stairs.\n",
      "he stairs.'the rabbit say the way of the some to be never herself and the little to see the little to see the \n",
      "==================================================\n",
      "Iteration #: 23\n",
      "Seed: il she mad\n",
      "il she made alice as it as she canerally, 'and then the white rabbit spicked the caterpillar that it was the c\n",
      "==================================================\n",
      "Iteration #: 24\n",
      "Seed: is a very \n",
      "is a very care of the top thing the top of her to say and down the mock turtle in a low, that it might as well\n",
      "==================================================\n",
      "Iteration #: 25\n",
      "Seed: nd they al\n",
      "nd they all as she had been anthe pighous and she had been anthe pighous and she had been anthe pighous and sh\n",
      "==================================================\n",
      "Iteration #: 26\n",
      "Seed:  wereanima\n",
      " wereanimade the said the look and the sorpers as it all the party were the ore what it last the said the look\n",
      "==================================================\n",
      "Iteration #: 27\n",
      "Seed: he king: '\n",
      "he king: 'the door with the white rabbit wander when she was the white rabbit wander when she was the white ra\n",
      "==================================================\n",
      "Iteration #: 28\n",
      "Seed:  out to he\n",
      " out to herself as she was a to do alice, as she said the king, and the dormouse into the jury, and the dormou\n",
      "==================================================\n",
      "Iteration #: 29\n",
      "Seed:  in a deep\n",
      " in a deep to the gryphon was stielding her hands and the pool of the word to herself and all the pool of the \n",
      "==================================================\n",
      "Iteration #: 30\n",
      "Seed: hat she wa\n",
      "hat she wasn't out of the wind of little things a little to see the with on a long as a little to see the with\n",
      "==================================================\n",
      "Iteration #: 31\n",
      "Seed: as he foun\n",
      "as he found the dormouse shook the first face at once torked round her feel very sing the dormouse shook the f\n",
      "==================================================\n",
      "Iteration #: 32\n",
      "Seed: ht us,' sa\n",
      "ht us,' said the mouse all the jumped in the pigeon in the dingen the dingen the dingen the dingen the dingen \n",
      "==================================================\n",
      "Iteration #: 33\n",
      "Seed: tiful soup\n",
      "tiful soup! the king said to the white rabbit see in the side with the rabbit is the whole she had here with t\n",
      "==================================================\n",
      "Iteration #: 34\n",
      "Seed: l as she c\n",
      "l as she could not she was so she was so she was so she was so she was so she was so she was so she was so she\n",
      "==================================================\n",
      "Iteration #: 35\n",
      "Seed: ment, spla\n",
      "ment, splash the gryphon in a very don't believe there was reamed the rest of the more the reat surprised to s\n",
      "==================================================\n",
      "Iteration #: 36\n",
      "Seed: ent on aga\n",
      "ent on again, and alice as it a little sisters, and seemed to be a stor to do the white rabbit, who sung itsou\n",
      "==================================================\n",
      "Iteration #: 37\n",
      "Seed: he had wep\n",
      "he had wept the three gardeners, but she took more speaked at the white rabbit spoke, and the white rabbit spo\n",
      "==================================================\n",
      "Iteration #: 38\n",
      "Seed: ome of the\n",
      "ome of the court.'(alice hastily replied the queen, and looked at the sort of the court.'(alice hastily replie\n",
      "==================================================\n",
      "Iteration #: 39\n",
      "Seed: dle yet?' \n",
      "dle yet?' said the king to she had chind alice took like that care so much of expected to herself, 'i wonder w\n",
      "==================================================\n",
      "Iteration #: 40\n",
      "Seed:  down the \n",
      " down the door and her head to find her for as the door and her head to find her for as the door and her head \n",
      "==================================================\n",
      "Iteration #: 41\n",
      "Seed: , and i do\n",
      ", and i don't know what a courted to the dire to alice, and the mouse to be a looking the one, 'i don't know w\n",
      "==================================================\n",
      "Iteration #: 42\n",
      "Seed: rpose\"?' s\n",
      "rpose\"?' said alice, 'why, i wonder?' said alice, 'why, i wonder?' said alice, 'why, i wonder?' said alice, 'w\n",
      "==================================================\n",
      "Iteration #: 43\n",
      "Seed: to see som\n",
      "to see some of the table, and the gryphon.'the little door to the caterpillar the caterpillar the caterpillar \n",
      "==================================================\n",
      "Iteration #: 44\n",
      "Seed:  for a goo\n",
      " for a good learne of me like the little did not quite a serpent, and then and looked at the mock turtle said \n",
      "==================================================\n",
      "Iteration #: 45\n",
      "Seed: hepool, 'a\n",
      "hepool, 'and the mouse were and the dormouse was speaking to her child alice was not at the startles for a lit\n",
      "==================================================\n",
      "Iteration #: 46\n",
      "Seed: ,' the mou\n",
      ",' the mouse the mock turtle, 'but it so she went on the same showly to see how she was so she went on the sam\n",
      "==================================================\n",
      "Iteration #: 47\n",
      "Seed: ly takes s\n",
      "ly takes so langed a little way one of the caterpillar.'you mean in she was an on!' come of the words won't yo\n",
      "==================================================\n",
      "Iteration #: 48\n",
      "Seed: ound as sh\n",
      "ound as she said to the juryment that it made rever head down about the cook the caterpillar the mock turtle r\n",
      "==================================================\n",
      "Iteration #: 49\n",
      "Seed: oks, and s\n",
      "oks, and she went on partick and he went so minuted to speak the mouse to alice, 'that's the queen the dormous\n",
      "==================================================\n",
      "Iteration #: 50\n",
      "Seed: ords:'yes,\n",
      "ords:'yes,' said the gryphon, and the mock turtlerpent to see her very mind as all to long as it was into the \n"
     ]
    }
   ],
   "source": [
    "batch_size = 128\n",
    "for iteration in range(51):\n",
    "    print(\"=\" * 50)\n",
    "    print(\"Iteration #: %d\" % (iteration))\n",
    "    \n",
    "    model.fit(X, y, batch_size=batch_size, nb_epoch=1, verbose=0)\n",
    "    \n",
    "    # test model\n",
    "    test_idx = np.random.randint(len(input_chars))\n",
    "    test_chars = input_chars[test_idx]\n",
    "    print(\"Seed: %s\" % (test_chars))\n",
    "    print(test_chars, end=\"\")\n",
    "    for i in range(100):\n",
    "        Xtest = np.zeros((1, seqlen, vocab_size))\n",
    "        for i, ch in enumerate(test_chars):\n",
    "            Xtest[0, i, char2index[ch]] = 1\n",
    "        pred = model.predict(Xtest, verbose=0)[0]\n",
    "        ypred = index2char[np.argmax(pred)]\n",
    "        print(ypred, end=\"\")\n",
    "        # move the input one step forward\n",
    "        test_chars = test_chars[1:] + ypred\n",
    "    print()"
   ]
  },
  {
   "cell_type": "code",
   "execution_count": null,
   "metadata": {
    "collapsed": true
   },
   "outputs": [],
   "source": []
  }
 ],
 "metadata": {
  "kernelspec": {
   "display_name": "Python 2",
   "language": "python",
   "name": "python2"
  },
  "language_info": {
   "codemirror_mode": {
    "name": "ipython",
    "version": 2
   },
   "file_extension": ".py",
   "mimetype": "text/x-python",
   "name": "python",
   "nbconvert_exporter": "python",
   "pygments_lexer": "ipython2",
   "version": "2.7.12"
  }
 },
 "nbformat": 4,
 "nbformat_minor": 0
}
